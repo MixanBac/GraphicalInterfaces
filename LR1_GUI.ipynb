{
 "cells": [
  {
   "cell_type": "code",
   "execution_count": 1,
   "id": "656d484f-2c54-4953-a9e3-a07fbdc6b392",
   "metadata": {
    "tags": []
   },
   "outputs": [
    {
     "ename": "SystemExit",
     "evalue": "0",
     "output_type": "error",
     "traceback": [
      "An exception has occurred, use %tb to see the full traceback.\n",
      "\u001b[1;31mSystemExit\u001b[0m\u001b[1;31m:\u001b[0m 0\n"
     ]
    },
    {
     "name": "stderr",
     "output_type": "stream",
     "text": [
      "C:\\Users\\User\\AppData\\Local\\Programs\\Python\\Python311\\Lib\\site-packages\\IPython\\core\\interactiveshell.py:3516: UserWarning: To exit: use 'exit', 'quit', or Ctrl-D.\n",
      "  warn(\"To exit: use 'exit', 'quit', or Ctrl-D.\", stacklevel=1)\n"
     ]
    }
   ],
   "source": [
    "from PyQt5.QtWidgets import *\n",
    "\n",
    "import sys\n",
    "\n",
    "class Window(QMainWindow):\n",
    "\n",
    "    def __init__(self):\n",
    "        super().__init__()\n",
    "\n",
    "\n",
    "        self.setWindowTitle(\"Lab1\")\n",
    "        self.setGeometry(300, 300, 520, 200)\n",
    "\n",
    "        self.UiComponents()\n",
    "        self.show()\n",
    "\n",
    "    lol = 0\n",
    "    \n",
    "    def changeName(self):\n",
    "        name = \"Yes\"\n",
    "        self.label1.setText(name)\n",
    "\n",
    "    def changeName2(self):\n",
    "        name = \"Сertainly\"\n",
    "        self.label1.setText(name)\n",
    "        \n",
    "    def UiComponents(self):\n",
    "        self.label1 = QLabel('You are definitely human?',self)\n",
    "        self.label1.setGeometry(200, 10, 200, 80)\n",
    "\n",
    "        self.push = QPushButton(\"Yes\", self)\n",
    "        self.push2 = QPushButton(\"Сertainly\", self)\n",
    "\n",
    "        self.push.setGeometry(0, 100, 200, 80)\n",
    "        self.push2.setGeometry(320, 100, 200, 80)\n",
    "\n",
    "        self.push.clicked.connect(self.changeName)\n",
    "        self.push2.clicked.connect(self.changeName2)\n",
    "\n",
    "App = QApplication(sys.argv)\n",
    "window = Window()\n",
    "sys.exit(App.exec())"
   ]
  },
  {
   "cell_type": "code",
   "execution_count": null,
   "id": "a0bfa9b1-e790-4150-9a3d-8ddf98216650",
   "metadata": {},
   "outputs": [],
   "source": []
  },
  {
   "cell_type": "code",
   "execution_count": null,
   "id": "cf81383e-a9e5-4732-9e3c-984b2f6cbbc2",
   "metadata": {},
   "outputs": [],
   "source": []
  }
 ],
 "metadata": {
  "kernelspec": {
   "display_name": "Python 3 (ipykernel)",
   "language": "python",
   "name": "python3"
  },
  "language_info": {
   "codemirror_mode": {
    "name": "ipython",
    "version": 3
   },
   "file_extension": ".py",
   "mimetype": "text/x-python",
   "name": "python",
   "nbconvert_exporter": "python",
   "pygments_lexer": "ipython3",
   "version": "3.11.4"
  }
 },
 "nbformat": 4,
 "nbformat_minor": 5
}
